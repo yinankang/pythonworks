{
 "cells": [
  {
   "cell_type": "code",
   "execution_count": 3,
   "metadata": {
    "scrolled": true
   },
   "outputs": [
    {
     "data": {
      "text/plain": [
       "[<matplotlib.lines.Line2D at 0x11f248630>]"
      ]
     },
     "execution_count": 3,
     "metadata": {},
     "output_type": "execute_result"
    }
   ],
   "source": [
    "import os\n",
    "import pandas as pd\n",
    "import numpy as np\n",
    "import matplotlib.pyplot as plt\n",
    "\n",
    "from IPython.core.interactiveshell import InteractiveShell\n",
    "InteractiveShell.ast_node_interactivity = \"all\"\n",
    "\n",
    "wh_df = pd.read_csv(\"../data/2017.csv\")\n",
    "\n",
    "wh_df.head()\n",
    "plt.plot(wh_df[\"Happiness.Rank\"], wh_df[\"Happiness.Score\"], 'o', color='black')\n",
    "\n",
    "# plt.plot(wh_df[\"Happiness_Score\"],wh_df[\"Happiness.Rank\"])\n"
   ]
  },
  {
   "cell_type": "code",
   "execution_count": 45,
   "metadata": {},
   "outputs": [
    {
     "data": {
      "image/png": "[encoded data removed]",
      "text/plain": [
       "<Figure size 432x288 with 1 Axes>"
      ]
     },
     "metadata": {
      "needs_background": "light"
     },
     "output_type": "display_data"
    },
    {
     "data": {
      "text/plain": [
       "Text(0.5,1,'Trust.Government.Corruption.')"
      ]
     },
     "execution_count": 45,
     "metadata": {},
     "output_type": "execute_result"
    },
    {
     "data": {
      "text/plain": [
       "{'whiskers': [<matplotlib.lines.Line2D at 0x9195cf4898>,\n",
       "  <matplotlib.lines.Line2D at 0x9195cf4cc0>],\n",
       " 'caps': [<matplotlib.lines.Line2D at 0x9195cf4da0>,\n",
       "  <matplotlib.lines.Line2D at 0x9195cfb550>],\n",
       " 'boxes': [<matplotlib.lines.Line2D at 0x9195cf4358>],\n",
       " 'medians': [<matplotlib.lines.Line2D at 0x9195cfb978>],\n",
       " 'fliers': [<matplotlib.lines.Line2D at 0x9195cfbda0>],\n",
       " 'means': []}"
      ]
     },
     "execution_count": 45,
     "metadata": {},
     "output_type": "execute_result"
    },
    {
     "data": {
      "image/png": "[encoded data removed]",
      "text/plain": [
       "<Figure size 432x288 with 1 Axes>"
      ]
     },
     "metadata": {
      "needs_background": "light"
     },
     "output_type": "display_data"
    }
   ],
   "source": [
    "_ = plt.hist(wh_df[\"Freedom\"])\n",
    "plt.show() \n",
    "\n",
    "fig1, ax1 = plt.subplots()\n",
    "ax1.set_title('Trust.Government.Corruption.')\n",
    "ax1.boxplot(wh_df[\"Trust..Government.Corruption.\"])\n"
   ]
  },
  {
   "cell_type": "code",
   "execution_count": 8,
   "metadata": {
    "scrolled": true
   },
   "outputs": [
    {
     "name": "stdout",
     "output_type": "stream",
     "text": [
      "       Happiness.Rank  Happiness.Score  Whisker.high  Whisker.low  \\\n",
      "count      155.000000       155.000000    155.000000   155.000000   \n",
      "mean        78.000000         5.354019      5.452326     5.255713   \n",
      "std         44.888751         1.131230      1.118542     1.145030   \n",
      "min          1.000000         2.693000      2.864884     2.521116   \n",
      "25%         39.500000         4.505500      4.608172     4.374955   \n",
      "50%         78.000000         5.279000      5.370032     5.193152   \n",
      "75%        116.500000         6.101500      6.194600     6.006527   \n",
      "max        155.000000         7.537000      7.622030     7.479556   \n",
      "\n",
      "       Economy..GDP.per.Capita.      Family  Health..Life.Expectancy.  \\\n",
      "count                155.000000  155.000000                155.000000   \n",
      "mean                   0.984718    1.188898                  0.551341   \n",
      "std                    0.420793    0.287263                  0.237073   \n",
      "min                    0.000000    0.000000                  0.000000   \n",
      "25%                    0.663371    1.042635                  0.369866   \n",
      "50%                    1.064578    1.253918                  0.606042   \n",
      "75%                    1.318027    1.414316                  0.723008   \n",
      "max                    1.870766    1.610574                  0.949492   \n",
      "\n",
      "          Freedom  Generosity  Trust..Government.Corruption.  \\\n",
      "count  155.000000  155.000000                     155.000000   \n",
      "mean     0.408786    0.246883                       0.123120   \n",
      "std      0.149997    0.134780                       0.101661   \n",
      "min      0.000000    0.000000                       0.000000   \n",
      "25%      0.303677    0.154106                       0.057271   \n",
      "50%      0.437454    0.231538                       0.089848   \n",
      "75%      0.516561    0.323762                       0.153296   \n",
      "max      0.658249    0.838075                       0.464308   \n",
      "\n",
      "       Dystopia.Residual  \n",
      "count         155.000000  \n",
      "mean            1.850238  \n",
      "std             0.500028  \n",
      "min             0.377914  \n",
      "25%             1.591291  \n",
      "50%             1.832910  \n",
      "75%             2.144654  \n",
      "max             3.117485  \n"
     ]
    }
   ],
   "source": [
    "print(wh_df.describe())"
   ]
  },
  {
   "cell_type": "code",
   "execution_count": 38,
   "metadata": {},
   "outputs": [
    {
     "data": {
      "text/plain": [
       "tuple"
      ]
     },
     "execution_count": 38,
     "metadata": {},
     "output_type": "execute_result"
    }
   ],
   "source": [
    "type(ax1)"
   ]
  }
 ],
 "metadata": {
  "kernelspec": {
   "display_name": "Python 3",
   "language": "python",
   "name": "python3"
  },
  "language_info": {
   "codemirror_mode": {
    "name": "ipython",
    "version": 3
   },
   "file_extension": ".py",
   "mimetype": "text/x-python",
   "name": "python",
   "nbconvert_exporter": "python",
   "pygments_lexer": "ipython3",
   "version": "3.7.1"
  }
 },
 "nbformat": 4,
 "nbformat_minor": 2
}
